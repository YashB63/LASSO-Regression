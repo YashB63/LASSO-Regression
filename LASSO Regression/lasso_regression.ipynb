{
 "cells": [
  {
   "cell_type": "code",
   "execution_count": 1,
   "metadata": {},
   "outputs": [],
   "source": [
    "# Importing Libraries\n",
    "import numpy as np"
   ]
  },
  {
   "cell_type": "code",
   "execution_count": null,
   "metadata": {},
   "outputs": [],
   "source": [
    "# Creating a class for Lasso Regression \n",
    "\n",
    "class Lasso_Regression():\n",
    "    \n",
    "    # Initiating the Hyper parameters\n",
    "    def __init__(self, learning_rate, no_of_iterations, lambda_parameter):\n",
    "        self.learning_rate = learning_rate\n",
    "        self.no_of_iterations = no_of_iterations\n",
    "        self.lambda_parameter = lambda_parameter\n",
    "    #  Fitting the dataset to the Lasso Regression Model\n",
    "    def fit(self, X, Y):\n",
    "        \n",
    "        # m --> number of data points you have in your dataset --> number of rows\n",
    "        # n --> number of input features -- > number of columns you have in your dataset\n",
    "        \n",
    "        self.m, self.n = X.shape #apna target salary rahega isiliye salary ko ignore maarege\n",
    "        \n",
    "        self.w = np.zeros(self.n)# weight\n",
    "        \n",
    "        self.b = 0# bias\n",
    "        \n",
    "        self.X = X\n",
    "        \n",
    "        self.Y = Y\n",
    "        \n",
    "        # Implementing Gradient Descent Algorithm for optimization(optimization is finding the optimal values for weights and bias)\n",
    "        \n",
    "        for i in range(no_of_iterations):\n",
    "            self.update_weights()\n",
    "    \n",
    "    # Function for updating the weight and bias value\n",
    "    def update_weights(self):\n",
    "        \n",
    "        # Linear Equation  of the model\n",
    "        Y_prediction = self.predict(self.X)\n",
    "\n",
    "        # Gradients (dw, db)\n",
    "        \n",
    "        # Gradient for weight \n",
    "        dw = np.zeros(self.n)\n",
    "        \n",
    "        for i in range(self.n):\n",
    "            if self.w[i]>0:\n",
    "                dw[i] = (-(2*(self.X[:,i]).dot(self.Y - Y_prediction)) + self.lambda_parameter) / self.m\n",
    "            else:\n",
    "                dw[i] = (-(2*(self.X[:,i]).dot(self.Y - Y_prediction)) - self.lambda_parameter) / self.m     \n",
    "    # Predicting the Target Variable\n",
    "    def predict(self,X):\n",
    "        return X.dot(self.w) + self.b"
   ]
  },
  {
   "cell_type": "code",
   "execution_count": null,
   "metadata": {},
   "outputs": [],
   "source": [
    "model = Lasso_Regression()"
   ]
  },
  {
   "cell_type": "code",
   "execution_count": null,
   "metadata": {},
   "outputs": [],
   "source": [
    "model.fit(X_train, Y_train)"
   ]
  }
 ],
 "metadata": {
  "kernelspec": {
   "display_name": "Python 3",
   "language": "python",
   "name": "python3"
  },
  "language_info": {
   "codemirror_mode": {
    "name": "ipython",
    "version": 3
   },
   "file_extension": ".py",
   "mimetype": "text/x-python",
   "name": "python",
   "nbconvert_exporter": "python",
   "pygments_lexer": "ipython3",
   "version": "3.11.3"
  },
  "orig_nbformat": 4
 },
 "nbformat": 4,
 "nbformat_minor": 2
}
